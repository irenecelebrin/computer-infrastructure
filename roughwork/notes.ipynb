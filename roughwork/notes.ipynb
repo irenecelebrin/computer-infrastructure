{
 "cells": [
  {
   "cell_type": "markdown",
   "id": "05e1f8dc",
   "metadata": {},
   "source": [
    "## Class 2\n"
   ]
  },
  {
   "cell_type": "markdown",
   "id": "2a3f485a",
   "metadata": {},
   "source": [
    "### Video 1 Guidance\n",
    "\n",
    "In assessment / guidance there are information on common errors and how to avoid them \n",
    "\n",
    " -  Read instructions multiply times, make sure you understad what you have to do and why \n",
    "\n",
    " - Do not leave everything to the end, be consistent with work and commits \n",
    "\n",
    " - untidy work: bad structure, lack of examples, typos \n",
    "\n",
    " - no explanation to the code \n",
    "\n",
    " - if you have a question, ask the lecturer, do not trust just another student, that information might not be accurate \n",
    "\n",
    "\n",
    "### Video 3 references \n",
    "\n",
    "- add them to markdown cells where they are used, add hypelinks to the web page \n",
    "- provide context for why you used them / why they were useful\n",
    "- provide hyperlink to web page of the source \n",
    "- avoid plagiarisms --> give creedit to code, ideas etc thata are not your own. keep track of all the pages you read / take ideas from in a txt file. \n",
    "\n",
    "\n",
    "### Video 4 Narratives \n",
    "\n",
    "Keep in mind what the assessment is about. Tell a story about the code. \n",
    "\n",
    "\n",
    "Code --> keep code cell small and add explanations \n",
    "\n",
    "if you are creating a big function, c\n",
    "- reate smaller functions in separate cells. \n",
    "- Add markdown cells before the code to explain \n",
    "- in the code cell, add comment strings in ''' ''''\n",
    "- add comments above lines of codes with #. \n",
    "\n",
    "\n",
    "### Video 5: other advice \n",
    "\n",
    "- Feeling overwhelmed: it's ok to be challenged, not in despair \n",
    "- rough work folder in the repo is ok to have \n",
    "- put an end cell at the end of the notebook \n",
    "\n",
    "\n",
    "\n",
    "\n",
    "\n",
    "\n"
   ]
  },
  {
   "cell_type": "markdown",
   "id": "1f126b83",
   "metadata": {},
   "source": [
    "\n"
   ]
  }
 ],
 "metadata": {
  "language_info": {
   "name": "python"
  }
 },
 "nbformat": 4,
 "nbformat_minor": 5
}
